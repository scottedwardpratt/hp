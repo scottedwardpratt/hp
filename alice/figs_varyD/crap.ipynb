{
 "cells": [
  {
   "cell_type": "code",
   "execution_count": 3,
   "metadata": {},
   "outputs": [
    {
     "data": {
      "text/plain": [
       "0"
      ]
     },
     "execution_count": 3,
     "metadata": {},
     "output_type": "execute_result"
    },
    {
     "data": {
      "image/png": "[encoded data removed]",
      "text/plain": [
       "<Figure size 432x360 with 1 Axes>"
      ]
     },
     "metadata": {},
     "output_type": "display_data"
    }
   ],
   "source": [
    "import matplotlib.pyplot as plt\n",
    "from matplotlib.lines import Line2D\n",
    "import numpy as np\n",
    "import os\n",
    "from pylab import *\n",
    "from matplotlib import ticker\n",
    "from matplotlib.ticker import ScalarFormatter\n",
    "sformatter=ScalarFormatter(useOffset=True,useMathText=True)\n",
    "sformatter.set_scientific(True)\n",
    "sformatter.set_powerlimits((-2,3))\n",
    "\n",
    "#plt.ticklabel_format(style='sci', axis='y', scilimits=(0,0))\n",
    "\n",
    "font = {'family' : 'serif',\n",
    "        'weight' : 'normal',\n",
    "        'size'   : 14}\n",
    "plt.rc('font', **font)\n",
    "plt.rc('text', usetex=False)\n",
    "plt.figure(figsize=(6,5))\n",
    "fig = plt.figure(1)\n",
    "ax = fig.add_axes([0.15,0.12,0.8,0.8])\n",
    "\n",
    "fudge=1.0\n",
    "chargesdata = np.loadtxt('fromcharges/rhic_cent30_40/results_star/allcharges/bf_eta.dat',skiprows=0,unpack=True)\n",
    "xcharge=chargesdata[0]\n",
    "ycharge=chargesdata[1]*fudge\n",
    "\n",
    "fudge=1.0\n",
    "cascadedata = np.loadtxt('fromcascade/rhic_cent30_40/results_star/allcharges/bf_eta.dat',skiprows=0,unpack=True)\n",
    "xcascade=cascadedata[0]\n",
    "ycascade=cascadedata[1]*fudge\n",
    "\n",
    "plt.plot(xcharge,ycharge,linestyle='--',linewidth=3,color='r')\n",
    "#plt.plot(xcascade,ycascade,linestyle='--',linewidth=3,color='g')\n",
    "#ysum=ycharge+ycascade\n",
    "#plt.plot(xcharge,ysum,linestyle='--',linewidth=3,color='b')\n",
    "\n",
    "fudge=1.0;\n",
    "chargesdata = np.loadtxt('fromcharges/rhic_cent0_5/results_star/allcharges/bf_eta.dat',skiprows=0,unpack=True)\n",
    "xcharge=chargesdata[0]\n",
    "ycharge=chargesdata[1]*fudge\n",
    "\n",
    "fudge=1.0;\n",
    "cascadedata = np.loadtxt('fromcascade/rhic_cent0_5/results_star/allcharges/bf_eta.dat',skiprows=0,unpack=True)\n",
    "xcascade=cascadedata[0]\n",
    "ycascade=cascadedata[1]*fudge\n",
    "\n",
    "plt.plot(xcharge,ycharg,linestyle='-',linewidth=3,color='r')\n",
    "#plt.plot(xcascade,ycascade,linestyle='-',linewidth=3,color='g')\n",
    "#ysum=ycharge+ycascade\n",
    "#plt.plot(xcharge,ysum,linestyle='-',linewidth=3,color='b')\n",
    "\n",
    "#plt.semilogy(x,y) \n",
    "\n",
    "ax.tick_params(axis='both', which='major', labelsize=14)\n",
    "\n",
    "ax.set_xticks(np.arange(0,2.1,0.5), minor=False)\n",
    "ax.set_xticklabels(np.arange(0,2.0,0.5), minor=False, family='serif')\n",
    "ax.set_xticks(np.arange(0,2.1,0.1), minor=True)\n",
    "ax.xaxis.set_major_formatter(ticker.FormatStrFormatter('%0.0f'))\n",
    "plt.xlim(0.0,2.0)\n",
    "\n",
    "ax.set_yticks(np.arange(0,1.0,0.25), minor=False)\n",
    "ax.set_yticklabels(np.arange(0,1.0,0.25), minor=False, family='serif')\n",
    "ax.set_yticks(np.arange(0,1.0,0.05), minor=True)\n",
    "plt.ylim(0.0,0.5)\n",
    "#ax.set_yticks(0.1:1.0:10.0:100.0, minor=True)\n",
    "ax.xaxis.set_major_formatter(ticker.FormatStrFormatter('%.1f'))\n",
    "#ax.yaxis.set_major_formatter(sformatter)\n",
    "\n",
    "plt.xlabel('$\\Delta\\eta$', fontsize=18, weight='normal')\n",
    "plt.ylabel('$B(\\Delta\\eta)$',fontsize=18)\n",
    "#plt.title('MathText Number $\\sum_{n=1}^\\infty({-e^{i\\pi}}/{2^n})$!',\n",
    "#fontsize=12, color='gray')\n",
    "#plt.subplots_adjust(top=0.85)\n",
    "plt.savefig('bf_eta.pdf',format='pdf')\n",
    "os.system('open -a Preview bf_eta.pdf')\n",
    "#plt.show()\n"
   ]
  },
  {
   "cell_type": "code",
   "execution_count": null,
   "metadata": {},
   "outputs": [],
   "source": [
    "quit"
   ]
  }
 ],
 "metadata": {
  "kernelspec": {
   "display_name": "Python 3",
   "language": "python",
   "name": "python3"
  },
  "language_info": {
   "codemirror_mode": {
    "name": "ipython",
    "version": 3
   },
   "file_extension": ".py",
   "mimetype": "text/x-python",
   "name": "python",
   "nbconvert_exporter": "python",
   "pygments_lexer": "ipython3",
   "version": "3.7.0"
  }
 },
 "nbformat": 4,
 "nbformat_minor": 2
}
